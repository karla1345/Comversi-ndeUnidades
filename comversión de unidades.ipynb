{
 "cells": [
  {
   "cell_type": "markdown",
   "metadata": {},
   "source": [
    "# Conversión de Unidades "
   ]
  },
  {
   "cell_type": "markdown",
   "metadata": {},
   "source": [
    "Este programa realiza la conversión de 10 diferentes unidades en donde el usuario ingresa el tipo de conversión a realizar y la unidad a comvertir y recibe como respuesta el valor correspondiente a la unidad deseada. \n",
    "el programa debe ser capaz de comvertir de: \n",
    "- Kilómetros a millas y millas a kilómetros.\n",
    "- Metros a pies y pies a metros.\n",
    "- Centímetros a pulgadas y pulgadas a centímetros. \n",
    "- Gramos a onzas y onzas a gramos.\n",
    "- Grados centígrados a fahrenheit y de fahrenheit a grados centígrados."
   ]
  },
  {
   "cell_type": "markdown",
   "metadata": {},
   "source": [
    "## Kilómetros a millas y millas a kilómetros."
   ]
  },
  {
   "cell_type": "code",
   "execution_count": 55,
   "metadata": {},
   "outputs": [
    {
     "name": "stdout",
     "output_type": "stream",
     "text": [
      "10 kilómetros son 6.21 millas\n",
      "5 millas son 8.05 kilómetros\n"
     ]
    }
   ],
   "source": [
    "def km_to_miles(kilometers):  # Convierte kilómetros a millas utilizando el factor de conversión estándar.\n",
    "    miles = kilometers * 0.621371\n",
    "    return miles\n",
    "\n",
    "def miles_to_km(miles):  #  Convierte millas a kilómetros utilizando el inverso del factor de conversión.\n",
    "    kilometers = miles / 0.621371\n",
    "    return kilometers\n",
    "\n",
    "# Ejemplos de uso\n",
    "km_value = 10\n",
    "miles_result = km_to_miles(km_value)  #  Para convertir 10 kilómetros a millas y se imprime el resultado.\n",
    "print(f\"{km_value} kilómetros son {miles_result:.2f} millas\")\n",
    "\n",
    "miles_value = 5\n",
    "km_result = miles_to_km(miles_value)  #  Para convertir 5 millas a kilómetros y se imprime el resultado.\n",
    "print(f\"{miles_value} millas son {km_result:.2f} kilómetros\")\n"
   ]
  },
  {
   "cell_type": "markdown",
   "metadata": {},
   "source": [
    " ## Metros a pies y pies a metros."
   ]
  },
  {
   "cell_type": "code",
   "execution_count": 56,
   "metadata": {},
   "outputs": [
    {
     "name": "stdout",
     "output_type": "stream",
     "text": [
      "30 metros son 98.43 pies\n",
      "10 pies son 3.05 metros\n"
     ]
    }
   ],
   "source": [
    "def metros_a_pies(metros):  # Convierte metros a pies multiplicando por el factor de conversión estándar de 1 metro a 3.28084 pies.\n",
    "    pies = metros * 3.28084\n",
    "    return pies\n",
    "\n",
    "def pies_a_metros(pies):  #  Convierte pies a metros dividiendo por el factor de conversión estándar de 1 pie a 3.28084 metros.\n",
    "    metros = pies / 3.28084\n",
    "    return metros\n",
    "\n",
    "# Ejemplos de uso\n",
    "metros_value = 30\n",
    "pies_result = metros_a_pies(metros_value)  # Para convertir 30 metros a pies y se imprime el resultado.\n",
    "print(f\"{metros_value} metros son {pies_result:.2f} pies\")\n",
    "\n",
    "pies_value = 10\n",
    "metros_result = pies_a_metros(pies_value)  # Para convertir 10 pies a metros y se imprime el resultado.\n",
    "print(f\"{pies_value} pies son {metros_result:.2f} metros\")\n"
   ]
  },
  {
   "cell_type": "markdown",
   "metadata": {},
   "source": [
    "## Centímetros a pulgadas y pulgadas a centímetros."
   ]
  },
  {
   "cell_type": "code",
   "execution_count": 48,
   "metadata": {},
   "outputs": [
    {
     "name": "stdout",
     "output_type": "stream",
     "text": [
      "3 cm son 7.62 pulgadas\n",
      "2 pulgadas son 0.78 cm\n"
     ]
    }
   ],
   "source": [
    "\n",
    "def cm_to_pulg(cm):\n",
    "    pulg = cm * 2.54\n",
    "    return pulg\n",
    "\n",
    "def pulg_to_cm(pulg):\n",
    "    cm = pulg * 0.39\n",
    "    return cm\n",
    "\n",
    "# Ejemplos de uso\n",
    "cm_value = 3\n",
    "pulg_value = cm_to_pulg(cm_value)\n",
    "print(f\"{cm_value} cm son {pulg_value:.2f} pulgadas\")\n",
    "\n",
    "pulg_value = 2\n",
    "cm_value = pulg_to_cm(pulg_value)\n",
    "print(f\"{pulg_value} pulgadas son {cm_value:.2f} cm\")"
   ]
  },
  {
   "cell_type": "markdown",
   "metadata": {},
   "source": [
    " ## Gramos a onzas y onzas a gramos."
   ]
  },
  {
   "cell_type": "code",
   "execution_count": 57,
   "metadata": {},
   "outputs": [
    {
     "name": "stdout",
     "output_type": "stream",
     "text": [
      "100 gramos son 3.53 onzas\n",
      "5 onzas son 141.75 gramos\n"
     ]
    }
   ],
   "source": [
    "def gramos_a_onzas(gramos):  # Convierte gramos a onzas multiplicando por el factor de conversión estándar de 1 gramo a 0.035274 onzas.\n",
    "    onzas = gramos * 0.035274\n",
    "    return onzas\n",
    "\n",
    "def onzas_a_gramos(onzas):  # Convierte gramos a onzas multiplicando por el factor de conversión estándar de 1 gramo a 0.035274 onzas.\n",
    "    gramos = onzas / 0.035274\n",
    "    return gramos\n",
    "\n",
    "# Ejemplos de uso\n",
    "gramos_value = 100\n",
    "onzas_value = gramos_a_onzas(gramos_value)  # Para convertir 100 gramos a onzas y se imprime el resultado.\n",
    "print(f\"{gramos_value} gramos son {onzas_value:.2f} onzas\")\n",
    "\n",
    "onzas_value = 5\n",
    "gramos_value = onzas_a_gramos(onzas_value)  #  Para convertir 5 onzas a gramos y se imprime el resultado.\n",
    "print(f\"{onzas_value} onzas son {gramos_value:.2f} gramos\")\n"
   ]
  },
  {
   "cell_type": "markdown",
   "metadata": {},
   "source": [
    "## Grados centígrados a fahrenheit y de fahrenheit a grados centígrados "
   ]
  },
  {
   "cell_type": "code",
   "execution_count": 58,
   "metadata": {},
   "outputs": [
    {
     "name": "stdout",
     "output_type": "stream",
     "text": [
      "25 grados Celsius son 77.00 grados Fahrenheit\n",
      "77 grados Fahrenheit son 25.00 grados Celsius\n"
     ]
    }
   ],
   "source": [
    "\n",
    "def celsius_to_fahrenheit(celsius):  # Convierte grados Celsius a Fahrenheit utilizando la fórmula de conversión F= 9/5 C + 32\n",
    "    fahrenheit = (celsius * 9/5) + 32\n",
    "    return fahrenheit\n",
    "\n",
    "def fahrenheit_to_celsius(fahrenheit):  # Convierte grados Fahrenheit a Celsius utilizando la fórmula de conversión C= F-32/9/5\n",
    "    celsius = (fahrenheit - 32) * 5/9\n",
    "    return celsius\n",
    "\n",
    "# Ejemplos de uso\n",
    "celsius_value = 25\n",
    "fahrenheit_result = celsius_to_fahrenheit(celsius_value)  # Para convertir 25 grados Celsius a Fahrenheit y se imprime el resultado.\n",
    "print(f\"{celsius_value} grados Celsius son {fahrenheit_result:.2f} grados Fahrenheit\")\n",
    "\n",
    "fahrenheit_value = 77\n",
    "celsius_result = fahrenheit_to_celsius(fahrenheit_value)  # Para convertir 77 grados Fahrenheit a Celsius y se imprime el resultado.\n",
    "print(f\"{fahrenheit_value} grados Fahrenheit son {celsius_result:.2f} grados Celsius\")\n"
   ]
  },
  {
   "cell_type": "markdown",
   "metadata": {},
   "source": [
    "## Menu\n"
   ]
  },
  {
   "cell_type": "code",
   "execution_count": 59,
   "metadata": {},
   "outputs": [
    {
     "name": "stdout",
     "output_type": "stream",
     "text": [
      "\n",
      "Selecciona una opción:\n",
      "1. Kilómetros a Millas\n",
      "2. Millas a Kilómetros\n",
      "3. Metros a Pies\n",
      "4. Pies a Metros\n",
      "5. Centígrados a Pulgadas\n",
      "6. Pulgadas a Centígrados\n",
      "7. Gramos a Onzas\n",
      "8. Onzas a Gramos\n",
      "9. Grados Centígrados a Fahrenheit\n",
      "10. Fahrenheit a Grados Centígrados\n",
      "11. Salir\n",
      "37.0 kilómetros son 22.990727 millas\n",
      "\n",
      "Selecciona una opción:\n",
      "1. Kilómetros a Millas\n",
      "2. Millas a Kilómetros\n",
      "3. Metros a Pies\n",
      "4. Pies a Metros\n",
      "5. Centígrados a Pulgadas\n",
      "6. Pulgadas a Centígrados\n",
      "7. Gramos a Onzas\n",
      "8. Onzas a Gramos\n",
      "9. Grados Centígrados a Fahrenheit\n",
      "10. Fahrenheit a Grados Centígrados\n",
      "11. Salir\n",
      "¡Hasta luego!\n"
     ]
    }
   ],
   "source": [
    "\n",
    " \n",
    "\n",
    "def main():\n",
    "    while True:\n",
    "        print(\"\\nSelecciona una opción:\")\n",
    "        print(\"1. Kilómetros a Millas:{kilometers}{millas}\")\n",
    "        print(\"2. Millas a Kilómetros\")\n",
    "        print(\"3. Metros a Pies\")\n",
    "        print(\"4. Pies a Metros\")\n",
    "        print(\"5. Centígrados a Pulgadas\")\n",
    "        print(\"6. Pulgadas a Centígrados\")\n",
    "        print(\"7. Gramos a Onzas\")\n",
    "        print(\"8. Onzas a Gramos\")\n",
    "        print(\"9. Grados Centígrados a Fahrenheit\")\n",
    "        print(\"10. Fahrenheit a Grados Centígrados\")\n",
    "        print(\"11. Salir\")\n",
    "def main():\n",
    "    while True:\n",
    "        # Menú principal\n",
    "        print(\"\\nSelecciona una opción:\")\n",
    "        print(\"1. Kilómetros a Millas\")\n",
    "        print(\"2. Millas a Kilómetros\")\n",
    "        print(\"3. Metros a Pies\")\n",
    "        print(\"4. Pies a Metros\")\n",
    "        print(\"5. Centígrados a Pulgadas\")\n",
    "        print(\"6. Pulgadas a Centígrados\")\n",
    "        print(\"7. Gramos a Onzas\")\n",
    "        print(\"8. Onzas a Gramos\")\n",
    "        print(\"9. Grados Centígrados a Fahrenheit\")\n",
    "        print(\"10. Fahrenheit a Grados Centígrados\")\n",
    "        print(\"11. Salir\")\n",
    "\n",
    "        # Aquí puedes incluir una instrucción para obtener la opción seleccionada\n",
    "        # por el usuario mediante la entrada de datos.\n",
    "\n",
    "        # Por ejemplo:\n",
    "        # option = int(input(\"Ingresa el número de la opción deseada: \"))\n",
    "\n",
    "        # Luego, puedes realizar operaciones según la opción seleccionada por el usuario.\n",
    "\n",
    "        # if option == 1:\n",
    "        #     # Llama a la función para convertir kilómetros a millas\n",
    "        # elif option == 2:\n",
    "        #     # Llama a la función para convertir millas a kilómetros\n",
    "        # ... y así sucesivamente\n",
    "\n",
    "        # Puedes utilizar un enfoque similar para cada una de las opciones del menú.\n",
    "\n",
    "        # También puedes incluir una opción para salir del bucle si el usuario lo elige.\n",
    "\n",
    "        # Por ejemplo:\n",
    "        # elif option == 11:\n",
    "        #     print(\"¡Hasta luego!\")\n",
    "        #     break\n",
    "        # else:\n",
    "        #     print(\"Opción no válida. Por favor, elige una opción válida.\")\n",
    "\n",
    "# Solicita al usuario que ingrese el número de la opción deseada\n",
    "        choice = int(input(\"Ingresa el número de la opción deseada: \"))\n",
    "\n",
    "# Verifica si el usuario eligió salir (opción 11)\n",
    "        if choice == 11:\n",
    "            print(\"¡Hasta luego!\")  \n",
    "            break  # Sale del bucle y termina el programa\n",
    "\n",
    "# Si la opción no es salir, solicita al usuario ingresar el valor a convertir\n",
    "        value = float(input(\"Ingresa el valor a convertir: \"))\n",
    "\n",
    "# Realiza las conversiones según la opción seleccionada por el usuario\n",
    "        if choice == 1:\n",
    "            result = km_to_miles(value)\n",
    "            print(f\"{value} kilómetros son {result} millas\")  \n",
    "\n",
    "        elif choice == 2:\n",
    "            result = miles_to_km(value)\n",
    "            print(f\"{value} millas son {result} kilómetros\")\n",
    "\n",
    "        elif choice == 3:\n",
    "            result = meters_to_feet(value)\n",
    "            print(f\"{value} metros son {result} pies\")\n",
    "\n",
    "        elif choice == 4:\n",
    "            result = feet_to_meters(value)\n",
    "            print(f\"{value} pies son {result} metros\")\n",
    "\n",
    "        elif choice == 5:\n",
    "            result = celsius_to_inches(value)\n",
    "            print(f\"{value} grados centígrados son {result} pulgadas\")\n",
    "\n",
    "        elif choice == 6:\n",
    "            result = inches_to_celsius(value)\n",
    "            print(f\"{value} pulgadas son {result} grados centígrados\")\n",
    "\n",
    "        elif choice == 7:\n",
    "            result = grams_to_ounces(value)\n",
    "            print(f\"{value} gramos son {result} onzas\")\n",
    "\n",
    "        elif choice == 8:\n",
    "            result = ounces_to_grams(value)\n",
    "            print(f\"{value} onzas son {result} gramos\")\n",
    "\n",
    "        elif choice == 9:\n",
    "            result = celsius_to_fahrenheit(value)\n",
    "            print(f\"{value} grados centígrados son {result} grados Fahrenheit\")\n",
    "\n",
    "        elif choice == 10:\n",
    "            result = fahrenheit_to_celsius(value)\n",
    "            print(f\"{value} grados Fahrenheit son {result} grados centígrados\")\n",
    "\n",
    "        else:\n",
    "            print(\"Opción no válida. Por favor, elige una opción válida.\")\n",
    "if __name__ == \"__main__\":\n",
    "    main()\n",
    "    # Si se llega a este punto, significa que el programa ha terminado la ejecución.\n"
   ]
  }
 ],
 "metadata": {
  "kernelspec": {
   "display_name": "Python 3",
   "language": "python",
   "name": "python3"
  },
  "language_info": {
   "codemirror_mode": {
    "name": "ipython",
    "version": 3
   },
   "file_extension": ".py",
   "mimetype": "text/x-python",
   "name": "python",
   "nbconvert_exporter": "python",
   "pygments_lexer": "ipython3",
   "version": "3.11.7"
  }
 },
 "nbformat": 4,
 "nbformat_minor": 2
}
