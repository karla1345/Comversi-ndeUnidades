{
 "cells": [
  {
   "cell_type": "markdown",
   "metadata": {},
   "source": [
    "### Conversión de Unidades "
   ]
  },
  {
   "cell_type": "markdown",
   "metadata": {},
   "source": [
    "este programa realiza la conversión de 10 diferentes unidades en donde el usuario ingresa el tipo de conversión a realizar y la unidad a comvertir y recibe como respuesta el valor correspondiente a la unidad deseada. \n",
    "el programa debe ser capaz de comvertir de: \n",
    "- kilómetros a millas y millas a kilómetros \n",
    "- metros a pies y pies a metros \n",
    "- centímetros a pulgadas y pulgadas a centímetros \n",
    "- gramos a onzas y onzas a gramos \n",
    "- grados centígrados a fahrenheit y de fahrenheit a grados centígrados "
   ]
  },
  {
   "cell_type": "markdown",
   "metadata": {},
   "source": [
    "### Kilómetros a millas y millas a kilómetros "
   ]
  },
  {
   "cell_type": "code",
   "execution_count": 2,
   "metadata": {},
   "outputs": [
    {
     "name": "stdout",
     "output_type": "stream",
     "text": [
      "10 kilometros son 6.21 millas\n",
      "5 millas son 8.05  kilometros\n"
     ]
    }
   ],
   "source": [
    "def km_to_miles(kilometers):\n",
    "    miles = kilometers * 0.621371\n",
    "    return miles\n",
    "\n",
    "def miles_to_km(miles):\n",
    "    kilometers = miles / 0.621371\n",
    "    return kilometers\n",
    "\n",
    "# Ejemplos de uso\n",
    "km_value = 10\n",
    "miles_result = km_to_miles(km_value)\n",
    "print(f\"{km_value} kilometros son {miles_result:.2f} millas\")\n",
    "\n",
    "miles_value = 5\n",
    "km_result = miles_to_km(miles_value)\n",
    "print(f\"{miles_value} millas son {km_result:.2f}  kilometros\")"
   ]
  },
  {
   "cell_type": "markdown",
   "metadata": {},
   "source": [
    " ### metros a pies y pies a metros "
   ]
  },
  {
   "cell_type": "code",
   "execution_count": 10,
   "metadata": {},
   "outputs": [],
   "source": [
    "def metros_a_pies(metros):\n",
    "    pies = metros * 3.28084\n",
    "    return f\"{pies} pies\""
   ]
  },
  {
   "cell_type": "code",
   "execution_count": 11,
   "metadata": {},
   "outputs": [
    {
     "data": {
      "text/plain": [
       "'32.8084 pies'"
      ]
     },
     "execution_count": 11,
     "metadata": {},
     "output_type": "execute_result"
    }
   ],
   "source": [
    "metros_a_pies(10)"
   ]
  },
  {
   "cell_type": "code",
   "execution_count": 12,
   "metadata": {},
   "outputs": [],
   "source": [
    "def pies_a_metros(pies):\n",
    "    metros = pies / 3.28084\n",
    "    return metros"
   ]
  },
  {
   "cell_type": "code",
   "execution_count": 16,
   "metadata": {},
   "outputs": [
    {
     "name": "stdout",
     "output_type": "stream",
     "text": [
      "98.4252 pies pies son equivalente a 10 pies. \n"
     ]
    }
   ],
   "source": [
    "pies = 30\n",
    "pies = metros_a_pies(pies)\n",
    "print(f\"{pies} pies son equivalente a {metros} pies. \")"
   ]
  },
  {
   "cell_type": "code",
   "execution_count": 15,
   "metadata": {},
   "outputs": [
    {
     "name": "stdout",
     "output_type": "stream",
     "text": [
      "10 metros son equivalente a 32.8084 pies pies. \n"
     ]
    }
   ],
   "source": [
    "metros = 10\n",
    "pies = metros_a_pies(metros)\n",
    "print(f\"{metros} metros son equivalente a {pies} pies. \")"
   ]
  },
  {
   "cell_type": "code",
   "execution_count": null,
   "metadata": {},
   "outputs": [],
   "source": [
    "def gramos_a_onzas(gramos):\n",
    "    onzas = gramos * 0.035274\n",
    "    return onzas"
   ]
  },
  {
   "cell_type": "markdown",
   "metadata": {},
   "source": [
    "### centímetros a pulgadas y pulgadas a centímetros"
   ]
  },
  {
   "cell_type": "code",
   "execution_count": null,
   "metadata": {},
   "outputs": [],
   "source": []
  },
  {
   "cell_type": "markdown",
   "metadata": {},
   "source": [
    " ### gramos a onzas y onzas a gramos "
   ]
  },
  {
   "cell_type": "code",
   "execution_count": 17,
   "metadata": {},
   "outputs": [],
   "source": [
    "def gramos_a_onzas(gramos):\n",
    "    onzas = gramos * 0.035274\n",
    "    return onzas"
   ]
  },
  {
   "cell_type": "code",
   "execution_count": 18,
   "metadata": {},
   "outputs": [],
   "source": [
    "def onzas_a_gramos(onzas):\n",
    "    gramos = onzas / 0.035274\n",
    "    return gramos"
   ]
  },
  {
   "cell_type": "code",
   "execution_count": 19,
   "metadata": {},
   "outputs": [
    {
     "name": "stdout",
     "output_type": "stream",
     "text": [
      "100 gramos son equivalentes a 3.5274 onzas. \n"
     ]
    }
   ],
   "source": [
    "gramos = 100\n",
    "onzas = gramos_a_onzas(gramos)\n",
    "print(f\"{gramos} gramos son equivalentes a {onzas} onzas. \")"
   ]
  },
  {
   "cell_type": "code",
   "execution_count": 20,
   "metadata": {},
   "outputs": [
    {
     "name": "stdout",
     "output_type": "stream",
     "text": [
      "5 onzas son equivalentes a 2834.949254408346 gramos. \n"
     ]
    }
   ],
   "source": [
    "onzas = 5\n",
    "gramos = onzas_a_gramos(gramos)\n",
    "print(f\"{onzas} onzas son equivalentes a {gramos} gramos. \")"
   ]
  },
  {
   "cell_type": "markdown",
   "metadata": {},
   "source": [
    "### grados centígrados a fahrenheit y de fahrenheit a grados centígrados "
   ]
  },
  {
   "cell_type": "code",
   "execution_count": 4,
   "metadata": {},
   "outputs": [
    {
     "name": "stdout",
     "output_type": "stream",
     "text": [
      "25 grados Celsius son 77.00 grados Fahrenheit\n",
      "77 grados Fahrenheit son 25.00 grados Celsius\n"
     ]
    }
   ],
   "source": [
    "\n",
    "def celsius_to_fahrenheit(celsius):\n",
    "    fahrenheit = (celsius * 9/5) + 32\n",
    "    return fahrenheit\n",
    "\n",
    "def fahrenheit_to_celsius(fahrenheit):\n",
    "    celsius = (fahrenheit - 32) * 5/9\n",
    "    return celsius\n",
    "\n",
    "# Ejemplos de uso\n",
    "celsius_value = 25\n",
    "fahrenheit_result = celsius_to_fahrenheit(celsius_value)\n",
    "print(f\"{celsius_value} grados Celsius son {fahrenheit_result:.2f} grados Fahrenheit\")\n",
    "\n",
    "fahrenheit_value = 77\n",
    "celsius_result = fahrenheit_to_celsius(fahrenheit_value)\n",
    "print(f\"{fahrenheit_value} grados Fahrenheit son {celsius_result:.2f} grados Celsius\")\n"
   ]
  }
 ],
 "metadata": {
  "kernelspec": {
   "display_name": "Python 3",
   "language": "python",
   "name": "python3"
  },
  "language_info": {
   "codemirror_mode": {
    "name": "ipython",
    "version": 3
   },
   "file_extension": ".py",
   "mimetype": "text/x-python",
   "name": "python",
   "nbconvert_exporter": "python",
   "pygments_lexer": "ipython3",
   "version": "3.11.7"
  }
 },
 "nbformat": 4,
 "nbformat_minor": 2
}
